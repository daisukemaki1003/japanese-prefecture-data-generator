{
 "cells": [
  {
   "cell_type": "code",
   "execution_count": 66,
   "id": "a342ce3a",
   "metadata": {},
   "outputs": [],
   "source": [
    "import pandas as pd"
   ]
  },
  {
   "cell_type": "code",
   "execution_count": 148,
   "id": "81de2c8f",
   "metadata": {},
   "outputs": [],
   "source": [
    "input_file_name = \"address_seeds.csv\"\n",
    "output_file_name = \"address_seeds.json\"\n",
    "\n",
    "column_country = \"country\"\n",
    "column_pref = \"pref\"\n",
    "column_city = \"city\"\n",
    "\n",
    "json_key_pref = \"pref\"\n",
    "json_key_city = \"cites\"\n",
    "\n",
    "df = pd.read_csv(input_file_name)\n",
    "\n",
    "# output data\n",
    "data: dict = {}"
   ]
  },
  {
   "cell_type": "code",
   "execution_count": 149,
   "id": "c8e744b0",
   "metadata": {},
   "outputs": [],
   "source": [
    "# 都道府県のDictデータを生成\n",
    "def generatePrefDict():\n",
    "    prefs = list(df[column_pref])\n",
    "    sortedPrefs = sorted(set(prefs), key=prefs.index)\n",
    "    return {i: {\"pref\" : pref, 'cites': {}} for i, pref in enumerate(sortedPrefs)}\n",
    "\n",
    "data = generatePrefDict()"
   ]
  },
  {
   "cell_type": "code",
   "execution_count": 150,
   "id": "641ef9b4",
   "metadata": {},
   "outputs": [],
   "source": [
    "# [generatePrefDict]で生成したDictに市町村データを追加\n",
    "def appendCitesData(prefId, cityId):\n",
    "    if (len(df) <= cityId):\n",
    "        return cityId;\n",
    "\n",
    "    # 都道府県名が一致しなかったら市町村IDを返す。\n",
    "    if (df[column_pref][cityId] != data[prefId][json_key_pref]):\n",
    "        return cityId;\n",
    "\n",
    "    # 都道府県名が一致したら再帰し、次の[cityId]で都道府県名が一致するデータを検索する。\n",
    "    data[prefId][json_key_city][cityId] = df[column_city][cityId]\n",
    "    return appendCitesData(prefId, cityId+1);\n",
    "\n",
    "cityId = 0\n",
    "for prefKey in data:\n",
    "    cityId = appendCitesData(prefKey, cityId)"
   ]
  },
  {
   "cell_type": "code",
   "execution_count": 159,
   "id": "517bb6d5",
   "metadata": {},
   "outputs": [],
   "source": [
    "import json\n",
    "\n",
    "json_file = open(output_file_name, mode=\"w\")\n",
    "json.dump(data, json_file, ensure_ascii=False, skipkeys=True, indent=4)\n",
    "json_file.close()"
   ]
  },
  {
   "cell_type": "markdown",
   "id": "ec41613b",
   "metadata": {},
   "source": []
  },
  {
   "cell_type": "code",
   "execution_count": null,
   "id": "be0e7dc6",
   "metadata": {},
   "outputs": [],
   "source": []
  }
 ],
 "metadata": {
  "kernelspec": {
   "display_name": "Python 3",
   "language": "python",
   "name": "python3"
  },
  "language_info": {
   "codemirror_mode": {
    "name": "ipython",
    "version": 3
   },
   "file_extension": ".py",
   "mimetype": "text/x-python",
   "name": "python",
   "nbconvert_exporter": "python",
   "pygments_lexer": "ipython3",
   "version": "3.9.0"
  },
  "vscode": {
   "interpreter": {
    "hash": "c9e19d384a96bd63c4a41aa9e8ffe980981f102a1e87ce0a3b651bfd132aa5c4"
   }
  }
 },
 "nbformat": 4,
 "nbformat_minor": 5
}
