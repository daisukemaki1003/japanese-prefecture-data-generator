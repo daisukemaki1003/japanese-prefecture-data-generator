{
 "cells": [
  {
   "cell_type": "code",
   "execution_count": 2,
   "id": "a430e9f7",
   "metadata": {},
   "outputs": [],
   "source": [
    "import pandas as pd"
   ]
  },
  {
   "cell_type": "code",
   "execution_count": 18,
   "id": "dc6946da",
   "metadata": {},
   "outputs": [],
   "source": [
    "csv_file_name = \"address_seeds.csv\"\n",
    "\n",
    "column_country = \"country\"\n",
    "column_pref = \"pref\"\n",
    "column_city = \"city\""
   ]
  },
  {
   "cell_type": "code",
   "execution_count": 15,
   "id": "2efb608d",
   "metadata": {},
   "outputs": [],
   "source": [
    "df = pd.read_csv(csv_file_name)"
   ]
  },
  {
   "cell_type": "code",
   "execution_count": 16,
   "id": "dc1dd1b2",
   "metadata": {},
   "outputs": [
    {
     "data": {
      "text/html": [
       "<div>\n",
       "<style scoped>\n",
       "    .dataframe tbody tr th:only-of-type {\n",
       "        vertical-align: middle;\n",
       "    }\n",
       "\n",
       "    .dataframe tbody tr th {\n",
       "        vertical-align: top;\n",
       "    }\n",
       "\n",
       "    .dataframe thead th {\n",
       "        text-align: right;\n",
       "    }\n",
       "</style>\n",
       "<table border=\"1\" class=\"dataframe\">\n",
       "  <thead>\n",
       "    <tr style=\"text-align: right;\">\n",
       "      <th></th>\n",
       "      <th>country</th>\n",
       "      <th>pref</th>\n",
       "      <th>city</th>\n",
       "    </tr>\n",
       "  </thead>\n",
       "  <tbody>\n",
       "    <tr>\n",
       "      <th>0</th>\n",
       "      <td>日本</td>\n",
       "      <td>北海道</td>\n",
       "      <td>札幌市</td>\n",
       "    </tr>\n",
       "    <tr>\n",
       "      <th>1</th>\n",
       "      <td>日本</td>\n",
       "      <td>北海道</td>\n",
       "      <td>函館市</td>\n",
       "    </tr>\n",
       "    <tr>\n",
       "      <th>2</th>\n",
       "      <td>日本</td>\n",
       "      <td>北海道</td>\n",
       "      <td>小樽市</td>\n",
       "    </tr>\n",
       "    <tr>\n",
       "      <th>3</th>\n",
       "      <td>日本</td>\n",
       "      <td>北海道</td>\n",
       "      <td>旭川市</td>\n",
       "    </tr>\n",
       "    <tr>\n",
       "      <th>4</th>\n",
       "      <td>日本</td>\n",
       "      <td>北海道</td>\n",
       "      <td>室蘭市</td>\n",
       "    </tr>\n",
       "  </tbody>\n",
       "</table>\n",
       "</div>"
      ],
      "text/plain": [
       "  country pref city\n",
       "0      日本  北海道  札幌市\n",
       "1      日本  北海道  函館市\n",
       "2      日本  北海道  小樽市\n",
       "3      日本  北海道  旭川市\n",
       "4      日本  北海道  室蘭市"
      ]
     },
     "execution_count": 16,
     "metadata": {},
     "output_type": "execute_result"
    }
   ],
   "source": [
    "df.head()"
   ]
  },
  {
   "cell_type": "code",
   "execution_count": 54,
   "id": "656f5287",
   "metadata": {},
   "outputs": [],
   "source": [
    "# 都道府県データを取得する\n",
    "prefMap = {}\n",
    "prefs = df[column_pref]\n",
    "\n",
    "def getPrefList(index) :\n",
    "            if (prefs.len <= index): \n",
    "            return\n",
    "        \n",
    "        print(\"test\")\n",
    "        if (index in prefs):\n",
    "            print(\"ある\")    "
   ]
  },
  {
   "cell_type": "code",
   "execution_count": 55,
   "id": "11a85b9d",
   "metadata": {},
   "outputs": [],
   "source": [
    "getPrefList()"
   ]
  },
  {
   "cell_type": "code",
   "execution_count": null,
   "id": "b652adf8",
   "metadata": {},
   "outputs": [],
   "source": []
  }
 ],
 "metadata": {
  "kernelspec": {
   "display_name": "Python 3 (ipykernel)",
   "language": "python",
   "name": "python3"
  },
  "language_info": {
   "codemirror_mode": {
    "name": "ipython",
    "version": 3
   },
   "file_extension": ".py",
   "mimetype": "text/x-python",
   "name": "python",
   "nbconvert_exporter": "python",
   "pygments_lexer": "ipython3",
   "version": "3.10.0"
  }
 },
 "nbformat": 4,
 "nbformat_minor": 5
}
